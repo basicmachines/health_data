{
 "cells": [
  {
   "cell_type": "markdown",
   "metadata": {},
   "source": [
    "## Working On Cody's Code"
   ]
  },
  {
   "cell_type": "code",
   "execution_count": 24,
   "metadata": {
    "collapsed": true
   },
   "outputs": [],
   "source": [
    "import pandas as pd\n",
    "import numpy as np\n",
    "\n",
    "%matplotlib inline"
   ]
  },
  {
   "cell_type": "code",
   "execution_count": 2,
   "metadata": {
    "collapsed": true
   },
   "outputs": [],
   "source": [
    "NS14 = pd.read_csv('data/NSDUH-2014-DS0001-data-excel.tsv', sep='\\t', index_col=0)"
   ]
  },
  {
   "cell_type": "code",
   "execution_count": 3,
   "metadata": {
    "collapsed": false
   },
   "outputs": [
    {
     "data": {
      "text/plain": [
       "(55271, 3147)"
      ]
     },
     "execution_count": 3,
     "metadata": {},
     "output_type": "execute_result"
    }
   ],
   "source": [
    "NS14.shape"
   ]
  },
  {
   "cell_type": "code",
   "execution_count": 4,
   "metadata": {
    "collapsed": false
   },
   "outputs": [
    {
     "data": {
      "text/plain": [
       "Index([u'QUESTID2', u'CIGEVER', u'CIGOFRSM', u'CIGWILYR', u'CIGTRY'], dtype='object')"
      ]
     },
     "execution_count": 4,
     "metadata": {},
     "output_type": "execute_result"
    }
   ],
   "source": [
    "NS14.columns[0:5]"
   ]
  },
  {
   "cell_type": "code",
   "execution_count": 5,
   "metadata": {
    "collapsed": false
   },
   "outputs": [
    {
     "data": {
      "text/plain": [
       "Int64Index([1, 2, 3, 4, 5], dtype='int64', name=u'CASEID')"
      ]
     },
     "execution_count": 5,
     "metadata": {},
     "output_type": "execute_result"
    }
   ],
   "source": [
    "NS14.index[0:5]"
   ]
  },
  {
   "cell_type": "code",
   "execution_count": 6,
   "metadata": {
    "collapsed": true
   },
   "outputs": [],
   "source": [
    "selected_columns = ['IRCIGRC','IRCGRRC','IRALCRC','IRMJRC','IRCOCRC','IRCRKRC',\n",
    "                   'IRHERRC','IRHALRC','IRINHRC','IRANLRC','IROXYRC','IRTRNRC',\n",
    "                   'IRSTMRC','IRSEDRC']\n",
    "#For these vars, 9 is never used, 4 is more than 3 years ago, 3 is 12 months ago+, \n",
    "#2 is 30days-12months ago, 1 is past 30 days"
   ]
  },
  {
   "cell_type": "code",
   "execution_count": 7,
   "metadata": {
    "collapsed": false
   },
   "outputs": [
    {
     "data": {
      "text/plain": [
       "(55271, 14)"
      ]
     },
     "execution_count": 7,
     "metadata": {},
     "output_type": "execute_result"
    }
   ],
   "source": [
    "DrugRecency = NS14[selected_columns]\n",
    "DrugRecency.shape"
   ]
  },
  {
   "cell_type": "markdown",
   "metadata": {},
   "source": [
    "There is another way to do this.  It is faster and avoids bringing the entire dataset into memory..."
   ]
  },
  {
   "cell_type": "code",
   "execution_count": 8,
   "metadata": {
    "collapsed": false
   },
   "outputs": [
    {
     "name": "stdout",
     "output_type": "stream",
     "text": [
      "1 loop, best of 3: 19.5 s per loop\n"
     ]
    }
   ],
   "source": [
    "%timeit NS14 = pd.read_csv('data/NSDUH-2014-DS0001-data-excel.tsv', sep='\\t', index_col=0)"
   ]
  },
  {
   "cell_type": "code",
   "execution_count": 9,
   "metadata": {
    "collapsed": false
   },
   "outputs": [
    {
     "name": "stdout",
     "output_type": "stream",
     "text": [
      "1 loop, best of 3: 3.17 s per loop\n"
     ]
    }
   ],
   "source": [
    "%timeit DrugRecency = pd.read_csv('data/NSDUH-2014-DS0001-data-excel.tsv', usecols=selected_columns, sep='\\t', index_col=0)"
   ]
  },
  {
   "cell_type": "code",
   "execution_count": 10,
   "metadata": {
    "collapsed": true
   },
   "outputs": [],
   "source": [
    "DrugRecency = pd.read_csv('data/NSDUH-2014-DS0001-data-excel.tsv', usecols=selected_columns, sep='\\t', index_col=0)"
   ]
  },
  {
   "cell_type": "code",
   "execution_count": 11,
   "metadata": {
    "collapsed": false
   },
   "outputs": [
    {
     "data": {
      "text/plain": [
       "(55271, 13)"
      ]
     },
     "execution_count": 11,
     "metadata": {},
     "output_type": "execute_result"
    }
   ],
   "source": [
    "DrugRecency.shape"
   ]
  },
  {
   "cell_type": "markdown",
   "metadata": {},
   "source": [
    "Looks like we lost one of the columns.  Probably the index column..."
   ]
  },
  {
   "cell_type": "code",
   "execution_count": 12,
   "metadata": {
    "collapsed": false
   },
   "outputs": [
    {
     "data": {
      "text/plain": [
       "Int64Index([4, 1, 9, 9, 9, 9, 9, 9, 9, 9,\n",
       "            ...\n",
       "            4, 4, 9, 9, 9, 2, 1, 4, 1, 4],\n",
       "           dtype='int64', name=u'IRCIGRC', length=55271)"
      ]
     },
     "execution_count": 12,
     "metadata": {},
     "output_type": "execute_result"
    }
   ],
   "source": [
    "DrugRecency.index"
   ]
  },
  {
   "cell_type": "markdown",
   "metadata": {},
   "source": [
    "Try it again, including the actual index column this time..."
   ]
  },
  {
   "cell_type": "code",
   "execution_count": 34,
   "metadata": {
    "collapsed": false
   },
   "outputs": [
    {
     "data": {
      "text/plain": [
       "(55271, 14)"
      ]
     },
     "execution_count": 34,
     "metadata": {},
     "output_type": "execute_result"
    }
   ],
   "source": [
    "selected_columns = ['IRCIGRC','IRCGRRC','IRALCRC','IRMJRC','IRCOCRC','IRCRKRC',\n",
    "                   'IRHERRC','IRHALRC','IRINHRC','IRANLRC','IROXYRC','IRTRNRC',\n",
    "                   'IRSTMRC','IRSEDRC']\n",
    "DrugRecency = pd.read_csv('data/NSDUH-2014-DS0001-data-excel.tsv', usecols=(['CASEID'] + selected_columns), sep='\\t', index_col=0)\n",
    "DrugRecency.shape"
   ]
  },
  {
   "cell_type": "code",
   "execution_count": 35,
   "metadata": {
    "collapsed": false
   },
   "outputs": [
    {
     "data": {
      "text/plain": [
       "Int64Index([1, 2, 3, 4, 5], dtype='int64', name=u'CASEID')"
      ]
     },
     "execution_count": 35,
     "metadata": {},
     "output_type": "execute_result"
    }
   ],
   "source": [
    "DrugRecency.index[:5]"
   ]
  },
  {
   "cell_type": "code",
   "execution_count": 36,
   "metadata": {
    "collapsed": false
   },
   "outputs": [
    {
     "data": {
      "text/plain": [
       "Index([u'IRCIGRC', u'IRCGRRC', u'IRALCRC', u'IRMJRC', u'IRCOCRC'], dtype='object')"
      ]
     },
     "execution_count": 36,
     "metadata": {},
     "output_type": "execute_result"
    }
   ],
   "source": [
    "DrugRecency.columns[:5]"
   ]
  },
  {
   "cell_type": "code",
   "execution_count": 37,
   "metadata": {
    "collapsed": true
   },
   "outputs": [],
   "source": [
    "sample = DrugRecency.head().copy() # Take a copy as we will be changing some of the values!"
   ]
  },
  {
   "cell_type": "code",
   "execution_count": 38,
   "metadata": {
    "collapsed": false
   },
   "outputs": [
    {
     "data": {
      "text/plain": [
       "IRCIGRC    4\n",
       "IRCGRRC    9\n",
       "IRALCRC    3\n",
       "IRMJRC     9\n",
       "IRCOCRC    9\n",
       "IRCRKRC    9\n",
       "IRHERRC    9\n",
       "IRHALRC    9\n",
       "IRINHRC    9\n",
       "IRANLRC    9\n",
       "IROXYRC    9\n",
       "IRTRNRC    9\n",
       "IRSTMRC    9\n",
       "IRSEDRC    9\n",
       "Name: 1, dtype: int64"
      ]
     },
     "execution_count": 38,
     "metadata": {},
     "output_type": "execute_result"
    }
   ],
   "source": [
    "sample.loc[1,:]"
   ]
  },
  {
   "cell_type": "code",
   "execution_count": 39,
   "metadata": {
    "collapsed": false
   },
   "outputs": [
    {
     "name": "stdout",
     "output_type": "stream",
     "text": [
      "1 4\n",
      "2 1\n",
      "3 9\n",
      "4 9\n",
      "5 9\n"
     ]
    }
   ],
   "source": [
    "# Here's a better way to iterate over a DataFrame.  iterrows is a Python generator.\n",
    "for index, row in sample.iterrows():\n",
    "    print index, row['IRCIGRC']"
   ]
  },
  {
   "cell_type": "code",
   "execution_count": 40,
   "metadata": {
    "collapsed": true
   },
   "outputs": [],
   "source": [
    "# Replace the 9's with NaN\n",
    "sample.replace(9, np.nan, inplace=True)"
   ]
  },
  {
   "cell_type": "code",
   "execution_count": 41,
   "metadata": {
    "collapsed": false
   },
   "outputs": [
    {
     "data": {
      "text/html": [
       "<div>\n",
       "<table border=\"1\" class=\"dataframe\">\n",
       "  <thead>\n",
       "    <tr style=\"text-align: right;\">\n",
       "      <th></th>\n",
       "      <th>IRCIGRC</th>\n",
       "      <th>IRCGRRC</th>\n",
       "      <th>IRALCRC</th>\n",
       "      <th>IRMJRC</th>\n",
       "      <th>IRCOCRC</th>\n",
       "      <th>IRCRKRC</th>\n",
       "      <th>IRHERRC</th>\n",
       "      <th>IRHALRC</th>\n",
       "      <th>IRINHRC</th>\n",
       "      <th>IRANLRC</th>\n",
       "      <th>IROXYRC</th>\n",
       "      <th>IRTRNRC</th>\n",
       "      <th>IRSTMRC</th>\n",
       "      <th>IRSEDRC</th>\n",
       "    </tr>\n",
       "    <tr>\n",
       "      <th>CASEID</th>\n",
       "      <th></th>\n",
       "      <th></th>\n",
       "      <th></th>\n",
       "      <th></th>\n",
       "      <th></th>\n",
       "      <th></th>\n",
       "      <th></th>\n",
       "      <th></th>\n",
       "      <th></th>\n",
       "      <th></th>\n",
       "      <th></th>\n",
       "      <th></th>\n",
       "      <th></th>\n",
       "      <th></th>\n",
       "    </tr>\n",
       "  </thead>\n",
       "  <tbody>\n",
       "    <tr>\n",
       "      <th>1</th>\n",
       "      <td>4.0</td>\n",
       "      <td>NaN</td>\n",
       "      <td>3.0</td>\n",
       "      <td>NaN</td>\n",
       "      <td>NaN</td>\n",
       "      <td>NaN</td>\n",
       "      <td>NaN</td>\n",
       "      <td>NaN</td>\n",
       "      <td>NaN</td>\n",
       "      <td>NaN</td>\n",
       "      <td>NaN</td>\n",
       "      <td>NaN</td>\n",
       "      <td>NaN</td>\n",
       "      <td>NaN</td>\n",
       "    </tr>\n",
       "    <tr>\n",
       "      <th>2</th>\n",
       "      <td>1.0</td>\n",
       "      <td>2.0</td>\n",
       "      <td>1.0</td>\n",
       "      <td>1.0</td>\n",
       "      <td>NaN</td>\n",
       "      <td>NaN</td>\n",
       "      <td>NaN</td>\n",
       "      <td>NaN</td>\n",
       "      <td>NaN</td>\n",
       "      <td>NaN</td>\n",
       "      <td>NaN</td>\n",
       "      <td>NaN</td>\n",
       "      <td>NaN</td>\n",
       "      <td>NaN</td>\n",
       "    </tr>\n",
       "    <tr>\n",
       "      <th>3</th>\n",
       "      <td>NaN</td>\n",
       "      <td>NaN</td>\n",
       "      <td>3.0</td>\n",
       "      <td>NaN</td>\n",
       "      <td>NaN</td>\n",
       "      <td>NaN</td>\n",
       "      <td>NaN</td>\n",
       "      <td>NaN</td>\n",
       "      <td>NaN</td>\n",
       "      <td>NaN</td>\n",
       "      <td>NaN</td>\n",
       "      <td>NaN</td>\n",
       "      <td>3.0</td>\n",
       "      <td>NaN</td>\n",
       "    </tr>\n",
       "    <tr>\n",
       "      <th>4</th>\n",
       "      <td>NaN</td>\n",
       "      <td>NaN</td>\n",
       "      <td>1.0</td>\n",
       "      <td>3.0</td>\n",
       "      <td>NaN</td>\n",
       "      <td>NaN</td>\n",
       "      <td>NaN</td>\n",
       "      <td>NaN</td>\n",
       "      <td>NaN</td>\n",
       "      <td>NaN</td>\n",
       "      <td>NaN</td>\n",
       "      <td>NaN</td>\n",
       "      <td>NaN</td>\n",
       "      <td>NaN</td>\n",
       "    </tr>\n",
       "    <tr>\n",
       "      <th>5</th>\n",
       "      <td>NaN</td>\n",
       "      <td>NaN</td>\n",
       "      <td>NaN</td>\n",
       "      <td>NaN</td>\n",
       "      <td>NaN</td>\n",
       "      <td>NaN</td>\n",
       "      <td>NaN</td>\n",
       "      <td>NaN</td>\n",
       "      <td>NaN</td>\n",
       "      <td>NaN</td>\n",
       "      <td>NaN</td>\n",
       "      <td>NaN</td>\n",
       "      <td>NaN</td>\n",
       "      <td>NaN</td>\n",
       "    </tr>\n",
       "  </tbody>\n",
       "</table>\n",
       "</div>"
      ],
      "text/plain": [
       "        IRCIGRC  IRCGRRC  IRALCRC  IRMJRC  IRCOCRC  IRCRKRC  IRHERRC  IRHALRC  \\\n",
       "CASEID                                                                          \n",
       "1           4.0      NaN      3.0     NaN      NaN      NaN      NaN      NaN   \n",
       "2           1.0      2.0      1.0     1.0      NaN      NaN      NaN      NaN   \n",
       "3           NaN      NaN      3.0     NaN      NaN      NaN      NaN      NaN   \n",
       "4           NaN      NaN      1.0     3.0      NaN      NaN      NaN      NaN   \n",
       "5           NaN      NaN      NaN     NaN      NaN      NaN      NaN      NaN   \n",
       "\n",
       "        IRINHRC  IRANLRC  IROXYRC  IRTRNRC  IRSTMRC  IRSEDRC  \n",
       "CASEID                                                        \n",
       "1           NaN      NaN      NaN      NaN      NaN      NaN  \n",
       "2           NaN      NaN      NaN      NaN      NaN      NaN  \n",
       "3           NaN      NaN      NaN      NaN      3.0      NaN  \n",
       "4           NaN      NaN      NaN      NaN      NaN      NaN  \n",
       "5           NaN      NaN      NaN      NaN      NaN      NaN  "
      ]
     },
     "execution_count": 41,
     "metadata": {},
     "output_type": "execute_result"
    }
   ],
   "source": [
    "sample"
   ]
  },
  {
   "cell_type": "code",
   "execution_count": 42,
   "metadata": {
    "collapsed": false
   },
   "outputs": [],
   "source": [
    "# Since it works, we can now apply it to the full data set\n",
    "DrugRecency.replace(9, np.nan, inplace=True)"
   ]
  },
  {
   "cell_type": "code",
   "execution_count": 43,
   "metadata": {
    "collapsed": false
   },
   "outputs": [
    {
     "data": {
      "text/html": [
       "<div>\n",
       "<table border=\"1\" class=\"dataframe\">\n",
       "  <thead>\n",
       "    <tr style=\"text-align: right;\">\n",
       "      <th></th>\n",
       "      <th>IRCIGRC</th>\n",
       "      <th>IRCGRRC</th>\n",
       "      <th>IRALCRC</th>\n",
       "      <th>IRMJRC</th>\n",
       "      <th>IRCOCRC</th>\n",
       "      <th>IRCRKRC</th>\n",
       "      <th>IRHERRC</th>\n",
       "      <th>IRHALRC</th>\n",
       "      <th>IRINHRC</th>\n",
       "      <th>IRANLRC</th>\n",
       "      <th>IROXYRC</th>\n",
       "      <th>IRTRNRC</th>\n",
       "      <th>IRSTMRC</th>\n",
       "      <th>IRSEDRC</th>\n",
       "    </tr>\n",
       "  </thead>\n",
       "  <tbody>\n",
       "    <tr>\n",
       "      <th>count</th>\n",
       "      <td>29212.000000</td>\n",
       "      <td>16946.000000</td>\n",
       "      <td>40694.000000</td>\n",
       "      <td>23474.000000</td>\n",
       "      <td>6636.000000</td>\n",
       "      <td>1663.000000</td>\n",
       "      <td>942.000000</td>\n",
       "      <td>7649.000000</td>\n",
       "      <td>4427.000000</td>\n",
       "      <td>7975.000000</td>\n",
       "      <td>1794.000000</td>\n",
       "      <td>5002.000000</td>\n",
       "      <td>3955.000000</td>\n",
       "      <td>1075.000000</td>\n",
       "    </tr>\n",
       "    <tr>\n",
       "      <th>mean</th>\n",
       "      <td>2.519204</td>\n",
       "      <td>2.922224</td>\n",
       "      <td>1.509805</td>\n",
       "      <td>2.334753</td>\n",
       "      <td>2.774563</td>\n",
       "      <td>2.863500</td>\n",
       "      <td>2.632696</td>\n",
       "      <td>2.777487</td>\n",
       "      <td>2.837362</td>\n",
       "      <td>2.529655</td>\n",
       "      <td>2.742475</td>\n",
       "      <td>2.645142</td>\n",
       "      <td>2.662705</td>\n",
       "      <td>2.769302</td>\n",
       "    </tr>\n",
       "    <tr>\n",
       "      <th>std</th>\n",
       "      <td>1.366022</td>\n",
       "      <td>1.146807</td>\n",
       "      <td>0.748783</td>\n",
       "      <td>0.855353</td>\n",
       "      <td>0.532974</td>\n",
       "      <td>0.446954</td>\n",
       "      <td>0.679839</td>\n",
       "      <td>0.516121</td>\n",
       "      <td>0.464000</td>\n",
       "      <td>0.716597</td>\n",
       "      <td>0.544210</td>\n",
       "      <td>0.639800</td>\n",
       "      <td>0.641281</td>\n",
       "      <td>0.541385</td>\n",
       "    </tr>\n",
       "    <tr>\n",
       "      <th>min</th>\n",
       "      <td>1.000000</td>\n",
       "      <td>1.000000</td>\n",
       "      <td>1.000000</td>\n",
       "      <td>1.000000</td>\n",
       "      <td>1.000000</td>\n",
       "      <td>1.000000</td>\n",
       "      <td>1.000000</td>\n",
       "      <td>1.000000</td>\n",
       "      <td>1.000000</td>\n",
       "      <td>1.000000</td>\n",
       "      <td>1.000000</td>\n",
       "      <td>1.000000</td>\n",
       "      <td>1.000000</td>\n",
       "      <td>1.000000</td>\n",
       "    </tr>\n",
       "    <tr>\n",
       "      <th>25%</th>\n",
       "      <td>NaN</td>\n",
       "      <td>NaN</td>\n",
       "      <td>NaN</td>\n",
       "      <td>NaN</td>\n",
       "      <td>NaN</td>\n",
       "      <td>NaN</td>\n",
       "      <td>NaN</td>\n",
       "      <td>NaN</td>\n",
       "      <td>NaN</td>\n",
       "      <td>NaN</td>\n",
       "      <td>NaN</td>\n",
       "      <td>NaN</td>\n",
       "      <td>NaN</td>\n",
       "      <td>NaN</td>\n",
       "    </tr>\n",
       "    <tr>\n",
       "      <th>50%</th>\n",
       "      <td>NaN</td>\n",
       "      <td>NaN</td>\n",
       "      <td>NaN</td>\n",
       "      <td>NaN</td>\n",
       "      <td>NaN</td>\n",
       "      <td>NaN</td>\n",
       "      <td>NaN</td>\n",
       "      <td>NaN</td>\n",
       "      <td>NaN</td>\n",
       "      <td>NaN</td>\n",
       "      <td>NaN</td>\n",
       "      <td>NaN</td>\n",
       "      <td>NaN</td>\n",
       "      <td>NaN</td>\n",
       "    </tr>\n",
       "    <tr>\n",
       "      <th>75%</th>\n",
       "      <td>NaN</td>\n",
       "      <td>NaN</td>\n",
       "      <td>NaN</td>\n",
       "      <td>NaN</td>\n",
       "      <td>NaN</td>\n",
       "      <td>NaN</td>\n",
       "      <td>NaN</td>\n",
       "      <td>NaN</td>\n",
       "      <td>NaN</td>\n",
       "      <td>NaN</td>\n",
       "      <td>NaN</td>\n",
       "      <td>NaN</td>\n",
       "      <td>NaN</td>\n",
       "      <td>NaN</td>\n",
       "    </tr>\n",
       "    <tr>\n",
       "      <th>max</th>\n",
       "      <td>4.000000</td>\n",
       "      <td>4.000000</td>\n",
       "      <td>3.000000</td>\n",
       "      <td>3.000000</td>\n",
       "      <td>3.000000</td>\n",
       "      <td>3.000000</td>\n",
       "      <td>3.000000</td>\n",
       "      <td>3.000000</td>\n",
       "      <td>3.000000</td>\n",
       "      <td>3.000000</td>\n",
       "      <td>3.000000</td>\n",
       "      <td>3.000000</td>\n",
       "      <td>3.000000</td>\n",
       "      <td>3.000000</td>\n",
       "    </tr>\n",
       "  </tbody>\n",
       "</table>\n",
       "</div>"
      ],
      "text/plain": [
       "            IRCIGRC       IRCGRRC       IRALCRC        IRMJRC      IRCOCRC  \\\n",
       "count  29212.000000  16946.000000  40694.000000  23474.000000  6636.000000   \n",
       "mean       2.519204      2.922224      1.509805      2.334753     2.774563   \n",
       "std        1.366022      1.146807      0.748783      0.855353     0.532974   \n",
       "min        1.000000      1.000000      1.000000      1.000000     1.000000   \n",
       "25%             NaN           NaN           NaN           NaN          NaN   \n",
       "50%             NaN           NaN           NaN           NaN          NaN   \n",
       "75%             NaN           NaN           NaN           NaN          NaN   \n",
       "max        4.000000      4.000000      3.000000      3.000000     3.000000   \n",
       "\n",
       "           IRCRKRC     IRHERRC      IRHALRC      IRINHRC      IRANLRC  \\\n",
       "count  1663.000000  942.000000  7649.000000  4427.000000  7975.000000   \n",
       "mean      2.863500    2.632696     2.777487     2.837362     2.529655   \n",
       "std       0.446954    0.679839     0.516121     0.464000     0.716597   \n",
       "min       1.000000    1.000000     1.000000     1.000000     1.000000   \n",
       "25%            NaN         NaN          NaN          NaN          NaN   \n",
       "50%            NaN         NaN          NaN          NaN          NaN   \n",
       "75%            NaN         NaN          NaN          NaN          NaN   \n",
       "max       3.000000    3.000000     3.000000     3.000000     3.000000   \n",
       "\n",
       "           IROXYRC      IRTRNRC      IRSTMRC      IRSEDRC  \n",
       "count  1794.000000  5002.000000  3955.000000  1075.000000  \n",
       "mean      2.742475     2.645142     2.662705     2.769302  \n",
       "std       0.544210     0.639800     0.641281     0.541385  \n",
       "min       1.000000     1.000000     1.000000     1.000000  \n",
       "25%            NaN          NaN          NaN          NaN  \n",
       "50%            NaN          NaN          NaN          NaN  \n",
       "75%            NaN          NaN          NaN          NaN  \n",
       "max       3.000000     3.000000     3.000000     3.000000  "
      ]
     },
     "execution_count": 43,
     "metadata": {},
     "output_type": "execute_result"
    }
   ],
   "source": [
    "DrugRecency.describe()"
   ]
  },
  {
   "cell_type": "code",
   "execution_count": 59,
   "metadata": {
    "collapsed": false
   },
   "outputs": [
    {
     "data": {
      "text/plain": [
       "array([[<matplotlib.axes._subplots.AxesSubplot object at 0x11febd610>,\n",
       "        <matplotlib.axes._subplots.AxesSubplot object at 0x121b4ac10>,\n",
       "        <matplotlib.axes._subplots.AxesSubplot object at 0x121b5b890>,\n",
       "        <matplotlib.axes._subplots.AxesSubplot object at 0x121e668d0>],\n",
       "       [<matplotlib.axes._subplots.AxesSubplot object at 0x121ee8a90>,\n",
       "        <matplotlib.axes._subplots.AxesSubplot object at 0x121f4af50>,\n",
       "        <matplotlib.axes._subplots.AxesSubplot object at 0x121fcded0>,\n",
       "        <matplotlib.axes._subplots.AxesSubplot object at 0x122034b90>],\n",
       "       [<matplotlib.axes._subplots.AxesSubplot object at 0x1220b4b10>,\n",
       "        <matplotlib.axes._subplots.AxesSubplot object at 0x122139990>,\n",
       "        <matplotlib.axes._subplots.AxesSubplot object at 0x1221a7b90>,\n",
       "        <matplotlib.axes._subplots.AxesSubplot object at 0x122229a10>],\n",
       "       [<matplotlib.axes._subplots.AxesSubplot object at 0x12228f950>,\n",
       "        <matplotlib.axes._subplots.AxesSubplot object at 0x1223137d0>,\n",
       "        <matplotlib.axes._subplots.AxesSubplot object at 0x1223794d0>,\n",
       "        <matplotlib.axes._subplots.AxesSubplot object at 0x1224035d0>]], dtype=object)"
      ]
     },
     "execution_count": 59,
     "metadata": {},
     "output_type": "execute_result"
    },
    {
     "data": {
      "image/png": "[encoded data removed]",
      "text/plain": [
       "<matplotlib.figure.Figure at 0x1205d4350>"
      ]
     },
     "metadata": {},
     "output_type": "display_data"
    }
   ],
   "source": [
    "DrugRecency.hist(figsize=(10, 10))"
   ]
  },
  {
   "cell_type": "code",
   "execution_count": 67,
   "metadata": {
    "collapsed": false
   },
   "outputs": [
    {
     "data": {
      "text/plain": [
       "array([[<matplotlib.axes._subplots.AxesSubplot object at 0x1250e42d0>,\n",
       "        <matplotlib.axes._subplots.AxesSubplot object at 0x12516d610>],\n",
       "       [<matplotlib.axes._subplots.AxesSubplot object at 0x1250fe250>,\n",
       "        <matplotlib.axes._subplots.AxesSubplot object at 0x125034d10>]], dtype=object)"
      ]
     },
     "execution_count": 67,
     "metadata": {},
     "output_type": "execute_result"
    },
    {
     "data": {
      "image/png": "[encoded data removed]",
      "text/plain": [
       "<matplotlib.figure.Figure at 0x1250e4c50>"
      ]
     },
     "metadata": {},
     "output_type": "display_data"
    }
   ],
   "source": [
    "DrugRecency.hist(column=['IRCIGRC', 'IRCGRRC', 'IRALCRC', 'IRMJRC'], figsize=(6, 6))"
   ]
  },
  {
   "cell_type": "code",
   "execution_count": 47,
   "metadata": {
    "collapsed": false
   },
   "outputs": [
    {
     "data": {
      "text/html": [
       "<div>\n",
       "<table border=\"1\" class=\"dataframe\">\n",
       "  <thead>\n",
       "    <tr style=\"text-align: right;\">\n",
       "      <th></th>\n",
       "      <th>IRCIGRC</th>\n",
       "      <th>IRCGRRC</th>\n",
       "      <th>IRALCRC</th>\n",
       "      <th>IRMJRC</th>\n",
       "      <th>IRCOCRC</th>\n",
       "      <th>IRCRKRC</th>\n",
       "      <th>IRHERRC</th>\n",
       "      <th>IRHALRC</th>\n",
       "      <th>IRINHRC</th>\n",
       "      <th>IRANLRC</th>\n",
       "      <th>IROXYRC</th>\n",
       "      <th>IRTRNRC</th>\n",
       "      <th>IRSTMRC</th>\n",
       "      <th>IRSEDRC</th>\n",
       "    </tr>\n",
       "    <tr>\n",
       "      <th>CASEID</th>\n",
       "      <th></th>\n",
       "      <th></th>\n",
       "      <th></th>\n",
       "      <th></th>\n",
       "      <th></th>\n",
       "      <th></th>\n",
       "      <th></th>\n",
       "      <th></th>\n",
       "      <th></th>\n",
       "      <th></th>\n",
       "      <th></th>\n",
       "      <th></th>\n",
       "      <th></th>\n",
       "      <th></th>\n",
       "    </tr>\n",
       "  </thead>\n",
       "  <tbody>\n",
       "    <tr>\n",
       "      <th>1</th>\n",
       "      <td>4.0</td>\n",
       "      <td>NaN</td>\n",
       "      <td>3.0</td>\n",
       "      <td>NaN</td>\n",
       "      <td>NaN</td>\n",
       "      <td>NaN</td>\n",
       "      <td>NaN</td>\n",
       "      <td>NaN</td>\n",
       "      <td>NaN</td>\n",
       "      <td>NaN</td>\n",
       "      <td>NaN</td>\n",
       "      <td>NaN</td>\n",
       "      <td>NaN</td>\n",
       "      <td>NaN</td>\n",
       "    </tr>\n",
       "    <tr>\n",
       "      <th>2</th>\n",
       "      <td>1.0</td>\n",
       "      <td>2.0</td>\n",
       "      <td>1.0</td>\n",
       "      <td>1.0</td>\n",
       "      <td>NaN</td>\n",
       "      <td>NaN</td>\n",
       "      <td>NaN</td>\n",
       "      <td>NaN</td>\n",
       "      <td>NaN</td>\n",
       "      <td>NaN</td>\n",
       "      <td>NaN</td>\n",
       "      <td>NaN</td>\n",
       "      <td>NaN</td>\n",
       "      <td>NaN</td>\n",
       "    </tr>\n",
       "    <tr>\n",
       "      <th>3</th>\n",
       "      <td>NaN</td>\n",
       "      <td>NaN</td>\n",
       "      <td>3.0</td>\n",
       "      <td>NaN</td>\n",
       "      <td>NaN</td>\n",
       "      <td>NaN</td>\n",
       "      <td>NaN</td>\n",
       "      <td>NaN</td>\n",
       "      <td>NaN</td>\n",
       "      <td>NaN</td>\n",
       "      <td>NaN</td>\n",
       "      <td>NaN</td>\n",
       "      <td>3.0</td>\n",
       "      <td>NaN</td>\n",
       "    </tr>\n",
       "    <tr>\n",
       "      <th>4</th>\n",
       "      <td>NaN</td>\n",
       "      <td>NaN</td>\n",
       "      <td>1.0</td>\n",
       "      <td>3.0</td>\n",
       "      <td>NaN</td>\n",
       "      <td>NaN</td>\n",
       "      <td>NaN</td>\n",
       "      <td>NaN</td>\n",
       "      <td>NaN</td>\n",
       "      <td>NaN</td>\n",
       "      <td>NaN</td>\n",
       "      <td>NaN</td>\n",
       "      <td>NaN</td>\n",
       "      <td>NaN</td>\n",
       "    </tr>\n",
       "    <tr>\n",
       "      <th>5</th>\n",
       "      <td>NaN</td>\n",
       "      <td>NaN</td>\n",
       "      <td>NaN</td>\n",
       "      <td>NaN</td>\n",
       "      <td>NaN</td>\n",
       "      <td>NaN</td>\n",
       "      <td>NaN</td>\n",
       "      <td>NaN</td>\n",
       "      <td>NaN</td>\n",
       "      <td>NaN</td>\n",
       "      <td>NaN</td>\n",
       "      <td>NaN</td>\n",
       "      <td>NaN</td>\n",
       "      <td>NaN</td>\n",
       "    </tr>\n",
       "  </tbody>\n",
       "</table>\n",
       "</div>"
      ],
      "text/plain": [
       "        IRCIGRC  IRCGRRC  IRALCRC  IRMJRC  IRCOCRC  IRCRKRC  IRHERRC  IRHALRC  \\\n",
       "CASEID                                                                          \n",
       "1           4.0      NaN      3.0     NaN      NaN      NaN      NaN      NaN   \n",
       "2           1.0      2.0      1.0     1.0      NaN      NaN      NaN      NaN   \n",
       "3           NaN      NaN      3.0     NaN      NaN      NaN      NaN      NaN   \n",
       "4           NaN      NaN      1.0     3.0      NaN      NaN      NaN      NaN   \n",
       "5           NaN      NaN      NaN     NaN      NaN      NaN      NaN      NaN   \n",
       "\n",
       "        IRINHRC  IRANLRC  IROXYRC  IRTRNRC  IRSTMRC  IRSEDRC  \n",
       "CASEID                                                        \n",
       "1           NaN      NaN      NaN      NaN      NaN      NaN  \n",
       "2           NaN      NaN      NaN      NaN      NaN      NaN  \n",
       "3           NaN      NaN      NaN      NaN      3.0      NaN  \n",
       "4           NaN      NaN      NaN      NaN      NaN      NaN  \n",
       "5           NaN      NaN      NaN      NaN      NaN      NaN  "
      ]
     },
     "execution_count": 47,
     "metadata": {},
     "output_type": "execute_result"
    }
   ],
   "source": [
    "DrugRecency[0:5]"
   ]
  },
  {
   "cell_type": "code",
   "execution_count": 48,
   "metadata": {
    "collapsed": false
   },
   "outputs": [
    {
     "data": {
      "text/html": [
       "<div>\n",
       "<table border=\"1\" class=\"dataframe\">\n",
       "  <thead>\n",
       "    <tr style=\"text-align: right;\">\n",
       "      <th></th>\n",
       "      <th>IRCIGRC</th>\n",
       "      <th>IRCGRRC</th>\n",
       "      <th>IRALCRC</th>\n",
       "      <th>IRMJRC</th>\n",
       "      <th>IRCOCRC</th>\n",
       "      <th>IRCRKRC</th>\n",
       "      <th>IRHERRC</th>\n",
       "      <th>IRHALRC</th>\n",
       "      <th>IRINHRC</th>\n",
       "      <th>IRANLRC</th>\n",
       "      <th>IROXYRC</th>\n",
       "      <th>IRTRNRC</th>\n",
       "      <th>IRSTMRC</th>\n",
       "      <th>IRSEDRC</th>\n",
       "    </tr>\n",
       "    <tr>\n",
       "      <th>CASEID</th>\n",
       "      <th></th>\n",
       "      <th></th>\n",
       "      <th></th>\n",
       "      <th></th>\n",
       "      <th></th>\n",
       "      <th></th>\n",
       "      <th></th>\n",
       "      <th></th>\n",
       "      <th></th>\n",
       "      <th></th>\n",
       "      <th></th>\n",
       "      <th></th>\n",
       "      <th></th>\n",
       "      <th></th>\n",
       "    </tr>\n",
       "  </thead>\n",
       "  <tbody>\n",
       "    <tr>\n",
       "      <th>1</th>\n",
       "      <td>4.0</td>\n",
       "      <td>NaN</td>\n",
       "      <td>3.0</td>\n",
       "      <td>NaN</td>\n",
       "      <td>NaN</td>\n",
       "      <td>NaN</td>\n",
       "      <td>NaN</td>\n",
       "      <td>NaN</td>\n",
       "      <td>NaN</td>\n",
       "      <td>NaN</td>\n",
       "      <td>NaN</td>\n",
       "      <td>NaN</td>\n",
       "      <td>NaN</td>\n",
       "      <td>NaN</td>\n",
       "    </tr>\n",
       "    <tr>\n",
       "      <th>2</th>\n",
       "      <td>1.0</td>\n",
       "      <td>2.0</td>\n",
       "      <td>1.0</td>\n",
       "      <td>1.0</td>\n",
       "      <td>NaN</td>\n",
       "      <td>NaN</td>\n",
       "      <td>NaN</td>\n",
       "      <td>NaN</td>\n",
       "      <td>NaN</td>\n",
       "      <td>NaN</td>\n",
       "      <td>NaN</td>\n",
       "      <td>NaN</td>\n",
       "      <td>NaN</td>\n",
       "      <td>NaN</td>\n",
       "    </tr>\n",
       "    <tr>\n",
       "      <th>3</th>\n",
       "      <td>NaN</td>\n",
       "      <td>NaN</td>\n",
       "      <td>3.0</td>\n",
       "      <td>NaN</td>\n",
       "      <td>NaN</td>\n",
       "      <td>NaN</td>\n",
       "      <td>NaN</td>\n",
       "      <td>NaN</td>\n",
       "      <td>NaN</td>\n",
       "      <td>NaN</td>\n",
       "      <td>NaN</td>\n",
       "      <td>NaN</td>\n",
       "      <td>3.0</td>\n",
       "      <td>NaN</td>\n",
       "    </tr>\n",
       "    <tr>\n",
       "      <th>4</th>\n",
       "      <td>NaN</td>\n",
       "      <td>NaN</td>\n",
       "      <td>1.0</td>\n",
       "      <td>3.0</td>\n",
       "      <td>NaN</td>\n",
       "      <td>NaN</td>\n",
       "      <td>NaN</td>\n",
       "      <td>NaN</td>\n",
       "      <td>NaN</td>\n",
       "      <td>NaN</td>\n",
       "      <td>NaN</td>\n",
       "      <td>NaN</td>\n",
       "      <td>NaN</td>\n",
       "      <td>NaN</td>\n",
       "    </tr>\n",
       "    <tr>\n",
       "      <th>5</th>\n",
       "      <td>NaN</td>\n",
       "      <td>NaN</td>\n",
       "      <td>NaN</td>\n",
       "      <td>NaN</td>\n",
       "      <td>NaN</td>\n",
       "      <td>NaN</td>\n",
       "      <td>NaN</td>\n",
       "      <td>NaN</td>\n",
       "      <td>NaN</td>\n",
       "      <td>NaN</td>\n",
       "      <td>NaN</td>\n",
       "      <td>NaN</td>\n",
       "      <td>NaN</td>\n",
       "      <td>NaN</td>\n",
       "    </tr>\n",
       "  </tbody>\n",
       "</table>\n",
       "</div>"
      ],
      "text/plain": [
       "        IRCIGRC  IRCGRRC  IRALCRC  IRMJRC  IRCOCRC  IRCRKRC  IRHERRC  IRHALRC  \\\n",
       "CASEID                                                                          \n",
       "1           4.0      NaN      3.0     NaN      NaN      NaN      NaN      NaN   \n",
       "2           1.0      2.0      1.0     1.0      NaN      NaN      NaN      NaN   \n",
       "3           NaN      NaN      3.0     NaN      NaN      NaN      NaN      NaN   \n",
       "4           NaN      NaN      1.0     3.0      NaN      NaN      NaN      NaN   \n",
       "5           NaN      NaN      NaN     NaN      NaN      NaN      NaN      NaN   \n",
       "\n",
       "        IRINHRC  IRANLRC  IROXYRC  IRTRNRC  IRSTMRC  IRSEDRC  \n",
       "CASEID                                                        \n",
       "1           NaN      NaN      NaN      NaN      NaN      NaN  \n",
       "2           NaN      NaN      NaN      NaN      NaN      NaN  \n",
       "3           NaN      NaN      NaN      NaN      3.0      NaN  \n",
       "4           NaN      NaN      NaN      NaN      NaN      NaN  \n",
       "5           NaN      NaN      NaN      NaN      NaN      NaN  "
      ]
     },
     "execution_count": 48,
     "metadata": {},
     "output_type": "execute_result"
    }
   ],
   "source": [
    "DrugRecency.head()"
   ]
  },
  {
   "cell_type": "code",
   "execution_count": 49,
   "metadata": {
    "collapsed": true
   },
   "outputs": [],
   "source": [
    "head = DrugRecency.head()"
   ]
  },
  {
   "cell_type": "code",
   "execution_count": 56,
   "metadata": {
    "collapsed": false
   },
   "outputs": [
    {
     "name": "stderr",
     "output_type": "stream",
     "text": [
      "/Users/billtubbs/anaconda/lib/python2.7/site-packages/ipykernel/__main__.py:1: SettingWithCopyWarning: \n",
      "A value is trying to be set on a copy of a slice from a DataFrame\n",
      "\n",
      "See the caveats in the documentation: http://pandas.pydata.org/pandas-docs/stable/indexing.html#indexing-view-versus-copy\n",
      "  if __name__ == '__main__':\n"
     ]
    }
   ],
   "source": [
    "head.loc[1,'IRCIGRC'] = 99.0"
   ]
  },
  {
   "cell_type": "code",
   "execution_count": 57,
   "metadata": {
    "collapsed": false
   },
   "outputs": [
    {
     "data": {
      "text/html": [
       "<div>\n",
       "<table border=\"1\" class=\"dataframe\">\n",
       "  <thead>\n",
       "    <tr style=\"text-align: right;\">\n",
       "      <th></th>\n",
       "      <th>IRCIGRC</th>\n",
       "      <th>IRCGRRC</th>\n",
       "      <th>IRALCRC</th>\n",
       "      <th>IRMJRC</th>\n",
       "      <th>IRCOCRC</th>\n",
       "      <th>IRCRKRC</th>\n",
       "      <th>IRHERRC</th>\n",
       "      <th>IRHALRC</th>\n",
       "      <th>IRINHRC</th>\n",
       "      <th>IRANLRC</th>\n",
       "      <th>IROXYRC</th>\n",
       "      <th>IRTRNRC</th>\n",
       "      <th>IRSTMRC</th>\n",
       "      <th>IRSEDRC</th>\n",
       "      <th>(1, 1)</th>\n",
       "      <th>1</th>\n",
       "    </tr>\n",
       "    <tr>\n",
       "      <th>CASEID</th>\n",
       "      <th></th>\n",
       "      <th></th>\n",
       "      <th></th>\n",
       "      <th></th>\n",
       "      <th></th>\n",
       "      <th></th>\n",
       "      <th></th>\n",
       "      <th></th>\n",
       "      <th></th>\n",
       "      <th></th>\n",
       "      <th></th>\n",
       "      <th></th>\n",
       "      <th></th>\n",
       "      <th></th>\n",
       "      <th></th>\n",
       "      <th></th>\n",
       "    </tr>\n",
       "  </thead>\n",
       "  <tbody>\n",
       "    <tr>\n",
       "      <th>1</th>\n",
       "      <td>99.0</td>\n",
       "      <td>NaN</td>\n",
       "      <td>3.0</td>\n",
       "      <td>NaN</td>\n",
       "      <td>NaN</td>\n",
       "      <td>NaN</td>\n",
       "      <td>NaN</td>\n",
       "      <td>NaN</td>\n",
       "      <td>NaN</td>\n",
       "      <td>NaN</td>\n",
       "      <td>NaN</td>\n",
       "      <td>NaN</td>\n",
       "      <td>NaN</td>\n",
       "      <td>NaN</td>\n",
       "      <td>99.0</td>\n",
       "      <td>99.0</td>\n",
       "    </tr>\n",
       "    <tr>\n",
       "      <th>2</th>\n",
       "      <td>99.0</td>\n",
       "      <td>2.0</td>\n",
       "      <td>1.0</td>\n",
       "      <td>1.0</td>\n",
       "      <td>NaN</td>\n",
       "      <td>NaN</td>\n",
       "      <td>NaN</td>\n",
       "      <td>NaN</td>\n",
       "      <td>NaN</td>\n",
       "      <td>NaN</td>\n",
       "      <td>NaN</td>\n",
       "      <td>NaN</td>\n",
       "      <td>NaN</td>\n",
       "      <td>NaN</td>\n",
       "      <td>99.0</td>\n",
       "      <td>NaN</td>\n",
       "    </tr>\n",
       "    <tr>\n",
       "      <th>3</th>\n",
       "      <td>NaN</td>\n",
       "      <td>NaN</td>\n",
       "      <td>3.0</td>\n",
       "      <td>NaN</td>\n",
       "      <td>NaN</td>\n",
       "      <td>NaN</td>\n",
       "      <td>NaN</td>\n",
       "      <td>NaN</td>\n",
       "      <td>NaN</td>\n",
       "      <td>NaN</td>\n",
       "      <td>NaN</td>\n",
       "      <td>NaN</td>\n",
       "      <td>3.0</td>\n",
       "      <td>NaN</td>\n",
       "      <td>99.0</td>\n",
       "      <td>NaN</td>\n",
       "    </tr>\n",
       "    <tr>\n",
       "      <th>4</th>\n",
       "      <td>NaN</td>\n",
       "      <td>NaN</td>\n",
       "      <td>1.0</td>\n",
       "      <td>3.0</td>\n",
       "      <td>NaN</td>\n",
       "      <td>NaN</td>\n",
       "      <td>NaN</td>\n",
       "      <td>NaN</td>\n",
       "      <td>NaN</td>\n",
       "      <td>NaN</td>\n",
       "      <td>NaN</td>\n",
       "      <td>NaN</td>\n",
       "      <td>NaN</td>\n",
       "      <td>NaN</td>\n",
       "      <td>99.0</td>\n",
       "      <td>NaN</td>\n",
       "    </tr>\n",
       "    <tr>\n",
       "      <th>5</th>\n",
       "      <td>NaN</td>\n",
       "      <td>NaN</td>\n",
       "      <td>NaN</td>\n",
       "      <td>NaN</td>\n",
       "      <td>NaN</td>\n",
       "      <td>NaN</td>\n",
       "      <td>NaN</td>\n",
       "      <td>NaN</td>\n",
       "      <td>NaN</td>\n",
       "      <td>NaN</td>\n",
       "      <td>NaN</td>\n",
       "      <td>NaN</td>\n",
       "      <td>NaN</td>\n",
       "      <td>NaN</td>\n",
       "      <td>99.0</td>\n",
       "      <td>NaN</td>\n",
       "    </tr>\n",
       "  </tbody>\n",
       "</table>\n",
       "</div>"
      ],
      "text/plain": [
       "        IRCIGRC  IRCGRRC  IRALCRC  IRMJRC  IRCOCRC  IRCRKRC  IRHERRC  IRHALRC  \\\n",
       "CASEID                                                                          \n",
       "1          99.0      NaN      3.0     NaN      NaN      NaN      NaN      NaN   \n",
       "2          99.0      2.0      1.0     1.0      NaN      NaN      NaN      NaN   \n",
       "3           NaN      NaN      3.0     NaN      NaN      NaN      NaN      NaN   \n",
       "4           NaN      NaN      1.0     3.0      NaN      NaN      NaN      NaN   \n",
       "5           NaN      NaN      NaN     NaN      NaN      NaN      NaN      NaN   \n",
       "\n",
       "        IRINHRC  IRANLRC  IROXYRC  IRTRNRC  IRSTMRC  IRSEDRC  (1, 1)     1  \n",
       "CASEID                                                                      \n",
       "1           NaN      NaN      NaN      NaN      NaN      NaN    99.0  99.0  \n",
       "2           NaN      NaN      NaN      NaN      NaN      NaN    99.0   NaN  \n",
       "3           NaN      NaN      NaN      NaN      3.0      NaN    99.0   NaN  \n",
       "4           NaN      NaN      NaN      NaN      NaN      NaN    99.0   NaN  \n",
       "5           NaN      NaN      NaN      NaN      NaN      NaN    99.0   NaN  "
      ]
     },
     "execution_count": 57,
     "metadata": {},
     "output_type": "execute_result"
    }
   ],
   "source": [
    "head"
   ]
  },
  {
   "cell_type": "code",
   "execution_count": 58,
   "metadata": {
    "collapsed": false
   },
   "outputs": [
    {
     "data": {
      "text/html": [
       "<div>\n",
       "<table border=\"1\" class=\"dataframe\">\n",
       "  <thead>\n",
       "    <tr style=\"text-align: right;\">\n",
       "      <th></th>\n",
       "      <th>IRCIGRC</th>\n",
       "      <th>IRCGRRC</th>\n",
       "      <th>IRALCRC</th>\n",
       "      <th>IRMJRC</th>\n",
       "      <th>IRCOCRC</th>\n",
       "      <th>IRCRKRC</th>\n",
       "      <th>IRHERRC</th>\n",
       "      <th>IRHALRC</th>\n",
       "      <th>IRINHRC</th>\n",
       "      <th>IRANLRC</th>\n",
       "      <th>IROXYRC</th>\n",
       "      <th>IRTRNRC</th>\n",
       "      <th>IRSTMRC</th>\n",
       "      <th>IRSEDRC</th>\n",
       "    </tr>\n",
       "    <tr>\n",
       "      <th>CASEID</th>\n",
       "      <th></th>\n",
       "      <th></th>\n",
       "      <th></th>\n",
       "      <th></th>\n",
       "      <th></th>\n",
       "      <th></th>\n",
       "      <th></th>\n",
       "      <th></th>\n",
       "      <th></th>\n",
       "      <th></th>\n",
       "      <th></th>\n",
       "      <th></th>\n",
       "      <th></th>\n",
       "      <th></th>\n",
       "    </tr>\n",
       "  </thead>\n",
       "  <tbody>\n",
       "    <tr>\n",
       "      <th>1</th>\n",
       "      <td>4.0</td>\n",
       "      <td>NaN</td>\n",
       "      <td>3.0</td>\n",
       "      <td>NaN</td>\n",
       "      <td>NaN</td>\n",
       "      <td>NaN</td>\n",
       "      <td>NaN</td>\n",
       "      <td>NaN</td>\n",
       "      <td>NaN</td>\n",
       "      <td>NaN</td>\n",
       "      <td>NaN</td>\n",
       "      <td>NaN</td>\n",
       "      <td>NaN</td>\n",
       "      <td>NaN</td>\n",
       "    </tr>\n",
       "    <tr>\n",
       "      <th>2</th>\n",
       "      <td>1.0</td>\n",
       "      <td>2.0</td>\n",
       "      <td>1.0</td>\n",
       "      <td>1.0</td>\n",
       "      <td>NaN</td>\n",
       "      <td>NaN</td>\n",
       "      <td>NaN</td>\n",
       "      <td>NaN</td>\n",
       "      <td>NaN</td>\n",
       "      <td>NaN</td>\n",
       "      <td>NaN</td>\n",
       "      <td>NaN</td>\n",
       "      <td>NaN</td>\n",
       "      <td>NaN</td>\n",
       "    </tr>\n",
       "    <tr>\n",
       "      <th>3</th>\n",
       "      <td>NaN</td>\n",
       "      <td>NaN</td>\n",
       "      <td>3.0</td>\n",
       "      <td>NaN</td>\n",
       "      <td>NaN</td>\n",
       "      <td>NaN</td>\n",
       "      <td>NaN</td>\n",
       "      <td>NaN</td>\n",
       "      <td>NaN</td>\n",
       "      <td>NaN</td>\n",
       "      <td>NaN</td>\n",
       "      <td>NaN</td>\n",
       "      <td>3.0</td>\n",
       "      <td>NaN</td>\n",
       "    </tr>\n",
       "    <tr>\n",
       "      <th>4</th>\n",
       "      <td>NaN</td>\n",
       "      <td>NaN</td>\n",
       "      <td>1.0</td>\n",
       "      <td>3.0</td>\n",
       "      <td>NaN</td>\n",
       "      <td>NaN</td>\n",
       "      <td>NaN</td>\n",
       "      <td>NaN</td>\n",
       "      <td>NaN</td>\n",
       "      <td>NaN</td>\n",
       "      <td>NaN</td>\n",
       "      <td>NaN</td>\n",
       "      <td>NaN</td>\n",
       "      <td>NaN</td>\n",
       "    </tr>\n",
       "    <tr>\n",
       "      <th>5</th>\n",
       "      <td>NaN</td>\n",
       "      <td>NaN</td>\n",
       "      <td>NaN</td>\n",
       "      <td>NaN</td>\n",
       "      <td>NaN</td>\n",
       "      <td>NaN</td>\n",
       "      <td>NaN</td>\n",
       "      <td>NaN</td>\n",
       "      <td>NaN</td>\n",
       "      <td>NaN</td>\n",
       "      <td>NaN</td>\n",
       "      <td>NaN</td>\n",
       "      <td>NaN</td>\n",
       "      <td>NaN</td>\n",
       "    </tr>\n",
       "  </tbody>\n",
       "</table>\n",
       "</div>"
      ],
      "text/plain": [
       "        IRCIGRC  IRCGRRC  IRALCRC  IRMJRC  IRCOCRC  IRCRKRC  IRHERRC  IRHALRC  \\\n",
       "CASEID                                                                          \n",
       "1           4.0      NaN      3.0     NaN      NaN      NaN      NaN      NaN   \n",
       "2           1.0      2.0      1.0     1.0      NaN      NaN      NaN      NaN   \n",
       "3           NaN      NaN      3.0     NaN      NaN      NaN      NaN      NaN   \n",
       "4           NaN      NaN      1.0     3.0      NaN      NaN      NaN      NaN   \n",
       "5           NaN      NaN      NaN     NaN      NaN      NaN      NaN      NaN   \n",
       "\n",
       "        IRINHRC  IRANLRC  IROXYRC  IRTRNRC  IRSTMRC  IRSEDRC  \n",
       "CASEID                                                        \n",
       "1           NaN      NaN      NaN      NaN      NaN      NaN  \n",
       "2           NaN      NaN      NaN      NaN      NaN      NaN  \n",
       "3           NaN      NaN      NaN      NaN      3.0      NaN  \n",
       "4           NaN      NaN      NaN      NaN      NaN      NaN  \n",
       "5           NaN      NaN      NaN      NaN      NaN      NaN  "
      ]
     },
     "execution_count": 58,
     "metadata": {},
     "output_type": "execute_result"
    }
   ],
   "source": [
    "DrugRecency.head()"
   ]
  },
  {
   "cell_type": "code",
   "execution_count": 68,
   "metadata": {
    "collapsed": true
   },
   "outputs": [],
   "source": [
    "# Ah. Actually it did make a copy and it did set the values."
   ]
  },
  {
   "cell_type": "code",
   "execution_count": null,
   "metadata": {
    "collapsed": true
   },
   "outputs": [],
   "source": []
  }
 ],
 "metadata": {
  "kernelspec": {
   "display_name": "Python 2",
   "language": "python",
   "name": "python2"
  },
  "language_info": {
   "codemirror_mode": {
    "name": "ipython",
    "version": 2
   },
   "file_extension": ".py",
   "mimetype": "text/x-python",
   "name": "python",
   "nbconvert_exporter": "python",
   "pygments_lexer": "ipython2",
   "version": "2.7.11"
  }
 },
 "nbformat": 4,
 "nbformat_minor": 0
}
